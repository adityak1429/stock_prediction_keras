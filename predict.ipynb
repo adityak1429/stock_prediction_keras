{
 "cells": [
  {
   "cell_type": "markdown",
   "metadata": {},
   "source": [
    "# Importing stuff"
   ]
  },
  {
   "cell_type": "code",
   "execution_count": 3,
   "metadata": {},
   "outputs": [],
   "source": [
    "\n",
    "import pandas as pd \n",
    "import matplotlib.pyplot as plt \n",
    "import numpy as np \n",
    "import tensorflow as tf \n",
    "from tensorflow import keras \n",
    "import seaborn as sns \n",
    "import os \n",
    "from datetime import datetime \n",
    "  \n",
    "import warnings \n",
    "warnings.filterwarnings(\"ignore\") "
   ]
  },
  {
   "cell_type": "markdown",
   "metadata": {},
   "source": [
    "Check if CUDA available"
   ]
  },
  {
   "cell_type": "code",
   "execution_count": 68,
   "metadata": {},
   "outputs": [
    {
     "name": "stdout",
     "output_type": "stream",
     "text": [
      "yep\n"
     ]
    }
   ],
   "source": [
    "print(\"yep\" if tf.config.list_physical_devices('GPU') else \"nope\")"
   ]
  },
  {
   "cell_type": "markdown",
   "metadata": {},
   "source": [
    "load the data"
   ]
  },
  {
   "cell_type": "code",
   "execution_count": 16,
   "metadata": {},
   "outputs": [
    {
     "name": "stdout",
     "output_type": "stream",
     "text": [
      "(619040, 7)\n",
      "         date   open   high    low  close    volume Name\n",
      "0  2013-02-08  15.07  15.12  14.63  14.75   8407500  AAL\n",
      "1  2013-02-11  14.89  15.01  14.26  14.46   8882000  AAL\n",
      "2  2013-02-12  14.45  14.51  14.10  14.27   8126000  AAL\n",
      "3  2013-02-13  14.30  14.94  14.25  14.66  10259500  AAL\n",
      "4  2013-02-14  14.94  14.96  13.16  13.99  31879900  AAL\n"
     ]
    }
   ],
   "source": [
    "data = pd.read_csv('./all_stocks_5yr.csv') \n",
    "print(data.shape) \n",
    "print(data.head()) "
   ]
  },
  {
   "cell_type": "code",
   "execution_count": 17,
   "metadata": {},
   "outputs": [
    {
     "name": "stdout",
     "output_type": "stream",
     "text": [
      "<class 'pandas.core.frame.DataFrame'>\n",
      "RangeIndex: 619040 entries, 0 to 619039\n",
      "Data columns (total 7 columns):\n",
      " #   Column  Non-Null Count   Dtype  \n",
      "---  ------  --------------   -----  \n",
      " 0   date    619040 non-null  object \n",
      " 1   open    619029 non-null  float64\n",
      " 2   high    619032 non-null  float64\n",
      " 3   low     619032 non-null  float64\n",
      " 4   close   619040 non-null  float64\n",
      " 5   volume  619040 non-null  int64  \n",
      " 6   Name    619040 non-null  object \n",
      "dtypes: float64(4), int64(1), object(2)\n",
      "memory usage: 33.1+ MB\n"
     ]
    }
   ],
   "source": [
    "data.info()"
   ]
  },
  {
   "cell_type": "markdown",
   "metadata": {},
   "source": [
    "converting data to time series data\n"
   ]
  },
  {
   "cell_type": "code",
   "execution_count": 18,
   "metadata": {},
   "outputs": [
    {
     "name": "stdout",
     "output_type": "stream",
     "text": [
      "<class 'pandas.core.frame.DataFrame'>\n",
      "RangeIndex: 619040 entries, 0 to 619039\n",
      "Data columns (total 7 columns):\n",
      " #   Column  Non-Null Count   Dtype         \n",
      "---  ------  --------------   -----         \n",
      " 0   date    619040 non-null  datetime64[ns]\n",
      " 1   open    619029 non-null  float64       \n",
      " 2   high    619032 non-null  float64       \n",
      " 3   low     619032 non-null  float64       \n",
      " 4   close   619040 non-null  float64       \n",
      " 5   volume  619040 non-null  int64         \n",
      " 6   Name    619040 non-null  object        \n",
      "dtypes: datetime64[ns](1), float64(4), int64(1), object(1)\n",
      "memory usage: 33.1+ MB\n"
     ]
    }
   ],
   "source": [
    "\n",
    "data['date'] = pd.to_datetime(data['date']) \n",
    "data.info() "
   ]
  },
  {
   "cell_type": "code",
   "execution_count": 49,
   "metadata": {},
   "outputs": [
    {
     "data": {
      "text/plain": [
       "['AAL',\n",
       " 'AAPL',\n",
       " 'AAP',\n",
       " 'ABBV',\n",
       " 'ABC',\n",
       " 'ABT',\n",
       " 'ACN',\n",
       " 'ADBE',\n",
       " 'ADI',\n",
       " 'ADM',\n",
       " 'ADP',\n",
       " 'ADSK',\n",
       " 'ADS',\n",
       " 'AEE',\n",
       " 'AEP',\n",
       " 'AES',\n",
       " 'AET',\n",
       " 'AFL',\n",
       " 'AGN',\n",
       " 'AIG',\n",
       " 'AIV',\n",
       " 'AIZ',\n",
       " 'AJG',\n",
       " 'AKAM',\n",
       " 'ALB',\n",
       " 'ALGN',\n",
       " 'ALK',\n",
       " 'ALLE',\n",
       " 'ALL',\n",
       " 'ALXN',\n",
       " 'AMAT',\n",
       " 'AMD',\n",
       " 'AME',\n",
       " 'AMGN',\n",
       " 'AMG',\n",
       " 'AMP',\n",
       " 'AMT',\n",
       " 'AMZN',\n",
       " 'ANDV',\n",
       " 'ANSS',\n",
       " 'ANTM',\n",
       " 'AON',\n",
       " 'AOS',\n",
       " 'APA',\n",
       " 'APC',\n",
       " 'APD',\n",
       " 'APH',\n",
       " 'APTV',\n",
       " 'ARE',\n",
       " 'ARNC',\n",
       " 'ATVI',\n",
       " 'AVB',\n",
       " 'AVGO',\n",
       " 'AVY',\n",
       " 'AWK',\n",
       " 'AXP',\n",
       " 'AYI',\n",
       " 'AZO',\n",
       " 'A',\n",
       " 'BAC',\n",
       " 'BAX',\n",
       " 'BA',\n",
       " 'BBT',\n",
       " 'BBY',\n",
       " 'BDX',\n",
       " 'BEN',\n",
       " 'BF.B',\n",
       " 'BHF',\n",
       " 'BHGE',\n",
       " 'BIIB',\n",
       " 'BK',\n",
       " 'BLK',\n",
       " 'BLL',\n",
       " 'BMY',\n",
       " 'BRK.B',\n",
       " 'BSX',\n",
       " 'BWA',\n",
       " 'BXP',\n",
       " 'CAG',\n",
       " 'CAH',\n",
       " 'CAT',\n",
       " 'CA',\n",
       " 'CBG',\n",
       " 'CBOE',\n",
       " 'CBS',\n",
       " 'CB',\n",
       " 'CCI',\n",
       " 'CCL',\n",
       " 'CDNS',\n",
       " 'CELG',\n",
       " 'CERN',\n",
       " 'CFG',\n",
       " 'CF',\n",
       " 'CHD',\n",
       " 'CHK',\n",
       " 'CHRW',\n",
       " 'CHTR',\n",
       " 'CINF',\n",
       " 'CI',\n",
       " 'CLX',\n",
       " 'CL',\n",
       " 'CMA',\n",
       " 'CMCSA',\n",
       " 'CME',\n",
       " 'CMG',\n",
       " 'CMI',\n",
       " 'CMS',\n",
       " 'CNC',\n",
       " 'CNP',\n",
       " 'COF',\n",
       " 'COG',\n",
       " 'COL',\n",
       " 'COO',\n",
       " 'COP',\n",
       " 'COST',\n",
       " 'COTY',\n",
       " 'CPB',\n",
       " 'CRM',\n",
       " 'CSCO',\n",
       " 'CSRA',\n",
       " 'CSX',\n",
       " 'CTAS',\n",
       " 'CTL',\n",
       " 'CTSH',\n",
       " 'CTXS',\n",
       " 'CVS',\n",
       " 'CVX',\n",
       " 'CXO',\n",
       " 'C',\n",
       " 'DAL',\n",
       " 'DE',\n",
       " 'DFS',\n",
       " 'DGX',\n",
       " 'DG',\n",
       " 'DHI',\n",
       " 'DHR',\n",
       " 'DISCA',\n",
       " 'DISCK',\n",
       " 'DISH',\n",
       " 'DIS',\n",
       " 'DLR',\n",
       " 'DLTR',\n",
       " 'DOV',\n",
       " 'DPS',\n",
       " 'DRE',\n",
       " 'DRI',\n",
       " 'DTE',\n",
       " 'DUK',\n",
       " 'DVA',\n",
       " 'DVN',\n",
       " 'DWDP',\n",
       " 'DXC',\n",
       " 'D',\n",
       " 'EA',\n",
       " 'EBAY',\n",
       " 'ECL',\n",
       " 'ED',\n",
       " 'EFX',\n",
       " 'EIX',\n",
       " 'EL',\n",
       " 'EMN',\n",
       " 'EMR',\n",
       " 'EOG',\n",
       " 'EQIX',\n",
       " 'EQR',\n",
       " 'EQT',\n",
       " 'ESRX',\n",
       " 'ESS',\n",
       " 'ES',\n",
       " 'ETFC',\n",
       " 'ETN',\n",
       " 'ETR',\n",
       " 'EVHC',\n",
       " 'EW',\n",
       " 'EXC',\n",
       " 'EXPD',\n",
       " 'EXPE',\n",
       " 'EXR',\n",
       " 'FAST',\n",
       " 'FBHS',\n",
       " 'FB',\n",
       " 'FCX',\n",
       " 'FDX',\n",
       " 'FE',\n",
       " 'FFIV',\n",
       " 'FISV',\n",
       " 'FIS',\n",
       " 'FITB',\n",
       " 'FLIR',\n",
       " 'FLR',\n",
       " 'FLS',\n",
       " 'FL',\n",
       " 'FMC',\n",
       " 'FOXA',\n",
       " 'FOX',\n",
       " 'FRT',\n",
       " 'FTI',\n",
       " 'FTV',\n",
       " 'F',\n",
       " 'GD',\n",
       " 'GE',\n",
       " 'GGP',\n",
       " 'GILD',\n",
       " 'GIS',\n",
       " 'GLW',\n",
       " 'GM',\n",
       " 'GOOGL',\n",
       " 'GOOG',\n",
       " 'GPC',\n",
       " 'GPN',\n",
       " 'GPS',\n",
       " 'GRMN',\n",
       " 'GS',\n",
       " 'GT',\n",
       " 'GWW',\n",
       " 'HAL',\n",
       " 'HAS',\n",
       " 'HBAN',\n",
       " 'HBI',\n",
       " 'HCA',\n",
       " 'HCN',\n",
       " 'HCP',\n",
       " 'HD',\n",
       " 'HES',\n",
       " 'HIG',\n",
       " 'HII',\n",
       " 'HLT',\n",
       " 'HOG',\n",
       " 'HOLX',\n",
       " 'HON',\n",
       " 'HPE',\n",
       " 'HPQ',\n",
       " 'HP',\n",
       " 'HRB',\n",
       " 'HRL',\n",
       " 'HRS',\n",
       " 'HSIC',\n",
       " 'HST',\n",
       " 'HSY',\n",
       " 'HUM',\n",
       " 'IBM',\n",
       " 'ICE',\n",
       " 'IDXX',\n",
       " 'IFF',\n",
       " 'ILMN',\n",
       " 'INCY',\n",
       " 'INFO',\n",
       " 'INTC',\n",
       " 'INTU',\n",
       " 'IPG',\n",
       " 'IP',\n",
       " 'IQV',\n",
       " 'IRM',\n",
       " 'IR',\n",
       " 'ISRG',\n",
       " 'ITW',\n",
       " 'IT',\n",
       " 'IVZ',\n",
       " 'JBHT',\n",
       " 'JCI',\n",
       " 'JEC',\n",
       " 'JNJ',\n",
       " 'JNPR',\n",
       " 'JPM',\n",
       " 'JWN',\n",
       " 'KEY',\n",
       " 'KHC',\n",
       " 'KIM',\n",
       " 'KLAC',\n",
       " 'KMB',\n",
       " 'KMI',\n",
       " 'KMX',\n",
       " 'KORS',\n",
       " 'KO',\n",
       " 'KR',\n",
       " 'KSS',\n",
       " 'KSU',\n",
       " 'K',\n",
       " 'LB',\n",
       " 'LEG',\n",
       " 'LEN',\n",
       " 'LH',\n",
       " 'LKQ',\n",
       " 'LLL',\n",
       " 'LLY',\n",
       " 'LMT',\n",
       " 'LNC',\n",
       " 'LNT',\n",
       " 'LOW',\n",
       " 'LRCX',\n",
       " 'LUK',\n",
       " 'LUV',\n",
       " 'LYB',\n",
       " 'L',\n",
       " 'MAA',\n",
       " 'MAC',\n",
       " 'MAR',\n",
       " 'MAS',\n",
       " 'MAT',\n",
       " 'MA',\n",
       " 'MCD',\n",
       " 'MCHP',\n",
       " 'MCK',\n",
       " 'MCO',\n",
       " 'MDLZ',\n",
       " 'MDT',\n",
       " 'MET',\n",
       " 'MGM',\n",
       " 'MHK',\n",
       " 'MKC',\n",
       " 'MLM',\n",
       " 'MMC',\n",
       " 'MMM',\n",
       " 'MNST',\n",
       " 'MON',\n",
       " 'MOS',\n",
       " 'MO',\n",
       " 'MPC',\n",
       " 'MRK',\n",
       " 'MRO',\n",
       " 'MSFT',\n",
       " 'MSI',\n",
       " 'MS',\n",
       " 'MTB',\n",
       " 'MTD',\n",
       " 'MU',\n",
       " 'MYL',\n",
       " 'M',\n",
       " 'NAVI',\n",
       " 'NBL',\n",
       " 'NCLH',\n",
       " 'NDAQ',\n",
       " 'NEE',\n",
       " 'NEM',\n",
       " 'NFLX',\n",
       " 'NFX',\n",
       " 'NI',\n",
       " 'NKE',\n",
       " 'NLSN',\n",
       " 'NOC',\n",
       " 'NOV',\n",
       " 'NRG',\n",
       " 'NSC',\n",
       " 'NTAP',\n",
       " 'NTRS',\n",
       " 'NUE',\n",
       " 'NVDA',\n",
       " 'NWL',\n",
       " 'NWSA',\n",
       " 'NWS',\n",
       " 'OKE',\n",
       " 'OMC',\n",
       " 'ORCL',\n",
       " 'ORLY',\n",
       " 'OXY',\n",
       " 'O',\n",
       " 'PAYX',\n",
       " 'PBCT',\n",
       " 'PCAR',\n",
       " 'PCG',\n",
       " 'PCLN',\n",
       " 'PDCO',\n",
       " 'PEG',\n",
       " 'PEP',\n",
       " 'PFE',\n",
       " 'PFG',\n",
       " 'PGR',\n",
       " 'PG',\n",
       " 'PHM',\n",
       " 'PH',\n",
       " 'PKG',\n",
       " 'PKI',\n",
       " 'PLD',\n",
       " 'PM',\n",
       " 'PNC',\n",
       " 'PNR',\n",
       " 'PNW',\n",
       " 'PPG',\n",
       " 'PPL',\n",
       " 'PRGO',\n",
       " 'PRU',\n",
       " 'PSA',\n",
       " 'PSX',\n",
       " 'PVH',\n",
       " 'PWR',\n",
       " 'PXD',\n",
       " 'PX',\n",
       " 'PYPL',\n",
       " 'QCOM',\n",
       " 'QRVO',\n",
       " 'RCL',\n",
       " 'REGN',\n",
       " 'REG',\n",
       " 'RE',\n",
       " 'RF',\n",
       " 'RHI',\n",
       " 'RHT',\n",
       " 'RJF',\n",
       " 'RL',\n",
       " 'RMD',\n",
       " 'ROK',\n",
       " 'ROP',\n",
       " 'ROST',\n",
       " 'RRC',\n",
       " 'RSG',\n",
       " 'RTN',\n",
       " 'SBAC',\n",
       " 'SBUX',\n",
       " 'SCG',\n",
       " 'SCHW',\n",
       " 'SEE',\n",
       " 'SHW',\n",
       " 'SIG',\n",
       " 'SJM',\n",
       " 'SLB',\n",
       " 'SLG',\n",
       " 'SNA',\n",
       " 'SNI',\n",
       " 'SNPS',\n",
       " 'SO',\n",
       " 'SPGI',\n",
       " 'SPG',\n",
       " 'SRCL',\n",
       " 'SRE',\n",
       " 'STI',\n",
       " 'STT',\n",
       " 'STX',\n",
       " 'STZ',\n",
       " 'SWKS',\n",
       " 'SWK',\n",
       " 'SYF',\n",
       " 'SYK',\n",
       " 'SYMC',\n",
       " 'SYY',\n",
       " 'TAP',\n",
       " 'TDG',\n",
       " 'TEL',\n",
       " 'TGT',\n",
       " 'TIF',\n",
       " 'TJX',\n",
       " 'TMK',\n",
       " 'TMO',\n",
       " 'TPR',\n",
       " 'TRIP',\n",
       " 'TROW',\n",
       " 'TRV',\n",
       " 'TSCO',\n",
       " 'TSN',\n",
       " 'TSS',\n",
       " 'TWX',\n",
       " 'TXN',\n",
       " 'TXT',\n",
       " 'T',\n",
       " 'UAA',\n",
       " 'UAL',\n",
       " 'UA',\n",
       " 'UDR',\n",
       " 'UHS',\n",
       " 'ULTA',\n",
       " 'UNH',\n",
       " 'UNM',\n",
       " 'UNP',\n",
       " 'UPS',\n",
       " 'URI',\n",
       " 'USB',\n",
       " 'UTX',\n",
       " 'VAR',\n",
       " 'VFC',\n",
       " 'VIAB',\n",
       " 'VLO',\n",
       " 'VMC',\n",
       " 'VNO',\n",
       " 'VRSK',\n",
       " 'VRSN',\n",
       " 'VRTX',\n",
       " 'VTR',\n",
       " 'VZ',\n",
       " 'V',\n",
       " 'WAT',\n",
       " 'WBA',\n",
       " 'WDC',\n",
       " 'WEC',\n",
       " 'WFC',\n",
       " 'WHR',\n",
       " 'WLTW',\n",
       " 'WMB',\n",
       " 'WMT',\n",
       " 'WM',\n",
       " 'WRK',\n",
       " 'WU',\n",
       " 'WYNN',\n",
       " 'WYN',\n",
       " 'WY',\n",
       " 'XEC',\n",
       " 'XEL',\n",
       " 'XLNX',\n",
       " 'XL',\n",
       " 'XOM',\n",
       " 'XRAY',\n",
       " 'XRX',\n",
       " 'XYL',\n",
       " 'YUM',\n",
       " 'ZBH',\n",
       " 'ZION',\n",
       " 'ZTS']"
      ]
     },
     "execution_count": 49,
     "metadata": {},
     "output_type": "execute_result"
    }
   ],
   "source": [
    "companies = data['Name'].unique().tolist()\n",
    "companies"
   ]
  },
  {
   "cell_type": "markdown",
   "metadata": {},
   "source": [
    "Lets analyze nvidia stock, You can analyze any stock"
   ]
  },
  {
   "cell_type": "code",
   "execution_count": 67,
   "metadata": {},
   "outputs": [
    {
     "data": {
      "text/plain": [
       "True"
      ]
     },
     "execution_count": 67,
     "metadata": {},
     "output_type": "execute_result"
    }
   ],
   "source": [
    "'NVDA' in companies"
   ]
  },
  {
   "cell_type": "code",
   "execution_count": 54,
   "metadata": {},
   "outputs": [],
   "source": [
    "\n",
    "nvidia = data[data['Name'] == 'NVDA'] \n",
    "prediction_range = nvidia.loc[(nvidia['date'] > datetime(2013,1,1)) \n",
    " & (nvidia['date']<datetime(2018,1,1))] "
   ]
  },
  {
   "cell_type": "code",
   "execution_count": 55,
   "metadata": {},
   "outputs": [
    {
     "data": {
      "image/png": "[encoded data removed]",
      "text/plain": [
       "<Figure size 640x480 with 1 Axes>"
      ]
     },
     "metadata": {},
     "output_type": "display_data"
    }
   ],
   "source": [
    "\n",
    "\n",
    "plt.plot(nvidia['date'],nvidia['close']) \n",
    "plt.xlabel(\"Date\") \n",
    "plt.ylabel(\"Close\") \n",
    "plt.title(\"nvidia Stock Prices\") \n",
    "plt.show()"
   ]
  },
  {
   "cell_type": "markdown",
   "metadata": {},
   "source": [
    "splitting test train for nvidia"
   ]
  },
  {
   "cell_type": "code",
   "execution_count": 56,
   "metadata": {},
   "outputs": [
    {
     "name": "stdout",
     "output_type": "stream",
     "text": [
      "1197\n"
     ]
    }
   ],
   "source": [
    "\n",
    "close_data = nvidia.filter(['close']) \n",
    "dataset = close_data.values \n",
    "training = int(np.ceil(len(dataset) * .95)) \n",
    "print(training) "
   ]
  },
  {
   "cell_type": "code",
   "execution_count": 57,
   "metadata": {},
   "outputs": [],
   "source": [
    "\n",
    "from sklearn.preprocessing import MinMaxScaler \n",
    "  \n",
    "scaler = MinMaxScaler(feature_range=(0, 1)) \n",
    "scaled_data = scaler.fit_transform(dataset) \n",
    "  \n",
    "train_data = scaled_data[0:int(training), :] \n",
    "# prepare feature and labels \n",
    "x_train = [] \n",
    "y_train = [] \n",
    "  \n",
    "for i in range(60, len(train_data)): \n",
    "    x_train.append(train_data[i-60:i, 0]) \n",
    "    y_train.append(train_data[i, 0]) \n",
    "  \n",
    "x_train, y_train = np.array(x_train), np.array(y_train) \n",
    "x_train = np.reshape(x_train, (x_train.shape[0], x_train.shape[1], 1)) "
   ]
  },
  {
   "cell_type": "code",
   "execution_count": 63,
   "metadata": {},
   "outputs": [
    {
     "data": {
      "text/html": [
       "<pre style=\"white-space:pre;overflow-x:auto;line-height:normal;font-family:Menlo,'DejaVu Sans Mono',consolas,'Courier New',monospace\"><span style=\"font-weight: bold\">Model: \"sequential_5\"</span>\n",
       "</pre>\n"
      ],
      "text/plain": [
       "\u001b[1mModel: \"sequential_5\"\u001b[0m\n"
      ]
     },
     "metadata": {},
     "output_type": "display_data"
    },
    {
     "data": {
      "text/html": [
       "<pre style=\"white-space:pre;overflow-x:auto;line-height:normal;font-family:Menlo,'DejaVu Sans Mono',consolas,'Courier New',monospace\">┏━━━━━━━━━━━━━━━━━━━━━━━━━━━━━━━━━┳━━━━━━━━━━━━━━━━━━━━━━━━┳━━━━━━━━━━━━━━━┓\n",
       "┃<span style=\"font-weight: bold\"> Layer (type)                    </span>┃<span style=\"font-weight: bold\"> Output Shape           </span>┃<span style=\"font-weight: bold\">       Param # </span>┃\n",
       "┡━━━━━━━━━━━━━━━━━━━━━━━━━━━━━━━━━╇━━━━━━━━━━━━━━━━━━━━━━━━╇━━━━━━━━━━━━━━━┩\n",
       "│ lstm_10 (<span style=\"color: #0087ff; text-decoration-color: #0087ff\">LSTM</span>)                  │ (<span style=\"color: #00d7ff; text-decoration-color: #00d7ff\">None</span>, <span style=\"color: #00af00; text-decoration-color: #00af00\">60</span>, <span style=\"color: #00af00; text-decoration-color: #00af00\">64</span>)         │        <span style=\"color: #00af00; text-decoration-color: #00af00\">16,896</span> │\n",
       "├─────────────────────────────────┼────────────────────────┼───────────────┤\n",
       "│ lstm_11 (<span style=\"color: #0087ff; text-decoration-color: #0087ff\">LSTM</span>)                  │ (<span style=\"color: #00d7ff; text-decoration-color: #00d7ff\">None</span>, <span style=\"color: #00af00; text-decoration-color: #00af00\">64</span>)             │        <span style=\"color: #00af00; text-decoration-color: #00af00\">33,024</span> │\n",
       "├─────────────────────────────────┼────────────────────────┼───────────────┤\n",
       "│ dense_10 (<span style=\"color: #0087ff; text-decoration-color: #0087ff\">Dense</span>)                │ (<span style=\"color: #00d7ff; text-decoration-color: #00d7ff\">None</span>, <span style=\"color: #00af00; text-decoration-color: #00af00\">32</span>)             │         <span style=\"color: #00af00; text-decoration-color: #00af00\">2,080</span> │\n",
       "├─────────────────────────────────┼────────────────────────┼───────────────┤\n",
       "│ dropout_5 (<span style=\"color: #0087ff; text-decoration-color: #0087ff\">Dropout</span>)             │ (<span style=\"color: #00d7ff; text-decoration-color: #00d7ff\">None</span>, <span style=\"color: #00af00; text-decoration-color: #00af00\">32</span>)             │             <span style=\"color: #00af00; text-decoration-color: #00af00\">0</span> │\n",
       "├─────────────────────────────────┼────────────────────────┼───────────────┤\n",
       "│ dense_11 (<span style=\"color: #0087ff; text-decoration-color: #0087ff\">Dense</span>)                │ (<span style=\"color: #00d7ff; text-decoration-color: #00d7ff\">None</span>, <span style=\"color: #00af00; text-decoration-color: #00af00\">1</span>)              │            <span style=\"color: #00af00; text-decoration-color: #00af00\">33</span> │\n",
       "└─────────────────────────────────┴────────────────────────┴───────────────┘\n",
       "</pre>\n"
      ],
      "text/plain": [
       "┏━━━━━━━━━━━━━━━━━━━━━━━━━━━━━━━━━┳━━━━━━━━━━━━━━━━━━━━━━━━┳━━━━━━━━━━━━━━━┓\n",
       "┃\u001b[1m \u001b[0m\u001b[1mLayer (type)                   \u001b[0m\u001b[1m \u001b[0m┃\u001b[1m \u001b[0m\u001b[1mOutput Shape          \u001b[0m\u001b[1m \u001b[0m┃\u001b[1m \u001b[0m\u001b[1m      Param #\u001b[0m\u001b[1m \u001b[0m┃\n",
       "┡━━━━━━━━━━━━━━━━━━━━━━━━━━━━━━━━━╇━━━━━━━━━━━━━━━━━━━━━━━━╇━━━━━━━━━━━━━━━┩\n",
       "│ lstm_10 (\u001b[38;5;33mLSTM\u001b[0m)                  │ (\u001b[38;5;45mNone\u001b[0m, \u001b[38;5;34m60\u001b[0m, \u001b[38;5;34m64\u001b[0m)         │        \u001b[38;5;34m16,896\u001b[0m │\n",
       "├─────────────────────────────────┼────────────────────────┼───────────────┤\n",
       "│ lstm_11 (\u001b[38;5;33mLSTM\u001b[0m)                  │ (\u001b[38;5;45mNone\u001b[0m, \u001b[38;5;34m64\u001b[0m)             │        \u001b[38;5;34m33,024\u001b[0m │\n",
       "├─────────────────────────────────┼────────────────────────┼───────────────┤\n",
       "│ dense_10 (\u001b[38;5;33mDense\u001b[0m)                │ (\u001b[38;5;45mNone\u001b[0m, \u001b[38;5;34m32\u001b[0m)             │         \u001b[38;5;34m2,080\u001b[0m │\n",
       "├─────────────────────────────────┼────────────────────────┼───────────────┤\n",
       "│ dropout_5 (\u001b[38;5;33mDropout\u001b[0m)             │ (\u001b[38;5;45mNone\u001b[0m, \u001b[38;5;34m32\u001b[0m)             │             \u001b[38;5;34m0\u001b[0m │\n",
       "├─────────────────────────────────┼────────────────────────┼───────────────┤\n",
       "│ dense_11 (\u001b[38;5;33mDense\u001b[0m)                │ (\u001b[38;5;45mNone\u001b[0m, \u001b[38;5;34m1\u001b[0m)              │            \u001b[38;5;34m33\u001b[0m │\n",
       "└─────────────────────────────────┴────────────────────────┴───────────────┘\n"
      ]
     },
     "metadata": {},
     "output_type": "display_data"
    },
    {
     "data": {
      "text/html": [
       "<pre style=\"white-space:pre;overflow-x:auto;line-height:normal;font-family:Menlo,'DejaVu Sans Mono',consolas,'Courier New',monospace\"><span style=\"font-weight: bold\"> Total params: </span><span style=\"color: #00af00; text-decoration-color: #00af00\">52,033</span> (203.25 KB)\n",
       "</pre>\n"
      ],
      "text/plain": [
       "\u001b[1m Total params: \u001b[0m\u001b[38;5;34m52,033\u001b[0m (203.25 KB)\n"
      ]
     },
     "metadata": {},
     "output_type": "display_data"
    },
    {
     "data": {
      "text/html": [
       "<pre style=\"white-space:pre;overflow-x:auto;line-height:normal;font-family:Menlo,'DejaVu Sans Mono',consolas,'Courier New',monospace\"><span style=\"font-weight: bold\"> Trainable params: </span><span style=\"color: #00af00; text-decoration-color: #00af00\">52,033</span> (203.25 KB)\n",
       "</pre>\n"
      ],
      "text/plain": [
       "\u001b[1m Trainable params: \u001b[0m\u001b[38;5;34m52,033\u001b[0m (203.25 KB)\n"
      ]
     },
     "metadata": {},
     "output_type": "display_data"
    },
    {
     "data": {
      "text/html": [
       "<pre style=\"white-space:pre;overflow-x:auto;line-height:normal;font-family:Menlo,'DejaVu Sans Mono',consolas,'Courier New',monospace\"><span style=\"font-weight: bold\"> Non-trainable params: </span><span style=\"color: #00af00; text-decoration-color: #00af00\">0</span> (0.00 B)\n",
       "</pre>\n"
      ],
      "text/plain": [
       "\u001b[1m Non-trainable params: \u001b[0m\u001b[38;5;34m0\u001b[0m (0.00 B)\n"
      ]
     },
     "metadata": {},
     "output_type": "display_data"
    },
    {
     "name": "stdout",
     "output_type": "stream",
     "text": [
      "None\n"
     ]
    }
   ],
   "source": [
    "model = keras.models.Sequential() \n",
    "model.add(keras.layers.LSTM(units=64, \n",
    "                            return_sequences=True, \n",
    "                            input_shape=(x_train.shape[1], 1))) \n",
    "model.add(keras.layers.LSTM(units=64)) \n",
    "model.add(keras.layers.Dense(32)) \n",
    "model.add(keras.layers.Dropout(0.2)) \n",
    "model.add(keras.layers.Dense(1)) \n",
    "print(model.summary())"
   ]
  },
  {
   "cell_type": "code",
   "execution_count": 64,
   "metadata": {},
   "outputs": [
    {
     "name": "stdout",
     "output_type": "stream",
     "text": [
      "Epoch 1/10\n",
      "\u001b[1m36/36\u001b[0m \u001b[32m━━━━━━━━━━━━━━━━━━━━\u001b[0m\u001b[37m\u001b[0m \u001b[1m5s\u001b[0m 36ms/step - loss: 0.0116\n",
      "Epoch 2/10\n",
      "\u001b[1m36/36\u001b[0m \u001b[32m━━━━━━━━━━━━━━━━━━━━\u001b[0m\u001b[37m\u001b[0m \u001b[1m1s\u001b[0m 37ms/step - loss: 0.0013\n",
      "Epoch 3/10\n",
      "\u001b[1m36/36\u001b[0m \u001b[32m━━━━━━━━━━━━━━━━━━━━\u001b[0m\u001b[37m\u001b[0m \u001b[1m1s\u001b[0m 35ms/step - loss: 8.2499e-04\n",
      "Epoch 4/10\n",
      "\u001b[1m36/36\u001b[0m \u001b[32m━━━━━━━━━━━━━━━━━━━━\u001b[0m\u001b[37m\u001b[0m \u001b[1m1s\u001b[0m 36ms/step - loss: 9.6706e-04\n",
      "Epoch 5/10\n",
      "\u001b[1m36/36\u001b[0m \u001b[32m━━━━━━━━━━━━━━━━━━━━\u001b[0m\u001b[37m\u001b[0m \u001b[1m1s\u001b[0m 37ms/step - loss: 0.0011\n",
      "Epoch 6/10\n",
      "\u001b[1m36/36\u001b[0m \u001b[32m━━━━━━━━━━━━━━━━━━━━\u001b[0m\u001b[37m\u001b[0m \u001b[1m1s\u001b[0m 37ms/step - loss: 0.0014\n",
      "Epoch 7/10\n",
      "\u001b[1m36/36\u001b[0m \u001b[32m━━━━━━━━━━━━━━━━━━━━\u001b[0m\u001b[37m\u001b[0m \u001b[1m1s\u001b[0m 35ms/step - loss: 9.4646e-04\n",
      "Epoch 8/10\n",
      "\u001b[1m36/36\u001b[0m \u001b[32m━━━━━━━━━━━━━━━━━━━━\u001b[0m\u001b[37m\u001b[0m \u001b[1m1s\u001b[0m 35ms/step - loss: 6.7903e-04\n",
      "Epoch 9/10\n",
      "\u001b[1m36/36\u001b[0m \u001b[32m━━━━━━━━━━━━━━━━━━━━\u001b[0m\u001b[37m\u001b[0m \u001b[1m1s\u001b[0m 33ms/step - loss: 0.0011\n",
      "Epoch 10/10\n",
      "\u001b[1m36/36\u001b[0m \u001b[32m━━━━━━━━━━━━━━━━━━━━\u001b[0m\u001b[37m\u001b[0m \u001b[1m1s\u001b[0m 34ms/step - loss: 8.8198e-04\n"
     ]
    }
   ],
   "source": [
    "\n",
    "model.compile(optimizer='adam', \n",
    "              loss='mean_squared_error') \n",
    "history = model.fit(x_train, \n",
    "                    y_train, \n",
    "                    epochs=10) "
   ]
  },
  {
   "cell_type": "code",
   "execution_count": 65,
   "metadata": {},
   "outputs": [
    {
     "name": "stdout",
     "output_type": "stream",
     "text": [
      "\u001b[1m2/2\u001b[0m \u001b[32m━━━━━━━━━━━━━━━━━━━━\u001b[0m\u001b[37m\u001b[0m \u001b[1m1s\u001b[0m 249ms/step\n",
      "var: 117.53408932406745\n",
      "std dev: 10.841314003572974\n"
     ]
    }
   ],
   "source": [
    "\n",
    "test_data = scaled_data[training - 60:, :] \n",
    "x_test = [] \n",
    "y_test = dataset[training:, :] \n",
    "for i in range(60, len(test_data)): \n",
    "    x_test.append(test_data[i-60:i, 0]) \n",
    "  \n",
    "x_test = np.array(x_test) \n",
    "x_test = np.reshape(x_test, (x_test.shape[0], x_test.shape[1], 1)) \n",
    "  \n",
    "# predict the testing data \n",
    "predictions = model.predict(x_test) \n",
    "predictions = scaler.inverse_transform(predictions) \n",
    "  \n",
    "# evaluation metrics \n",
    "var = np.mean(((predictions - y_test) ** 2)) \n",
    "print(\"var:\", var) \n",
    "print(\"std dev:\", np.sqrt(var)) "
   ]
  },
  {
   "cell_type": "code",
   "execution_count": 66,
   "metadata": {},
   "outputs": [
    {
     "data": {
      "text/plain": [
       "<matplotlib.legend.Legend at 0x764b149cc860>"
      ]
     },
     "execution_count": 66,
     "metadata": {},
     "output_type": "execute_result"
    },
    {
     "data": {
      "image/png": "[encoded data removed]",
      "text/plain": [
       "<Figure size 1000x800 with 1 Axes>"
      ]
     },
     "metadata": {},
     "output_type": "display_data"
    }
   ],
   "source": [
    "\n",
    "train = nvidia[:training] \n",
    "test = nvidia[training:] \n",
    "test['Predictions'] = predictions \n",
    "  \n",
    "plt.figure(figsize=(10, 8)) \n",
    "plt.plot(train['date'], train['close']) \n",
    "plt.plot(test['date'], test[['close', 'Predictions']]) \n",
    "plt.title('nvidia Stock close Price') \n",
    "plt.xlabel('date') \n",
    "plt.ylabel(\"close\") \n",
    "plt.legend(['Train', 'Test', 'Predictions']) "
   ]
  },
  {
   "cell_type": "code",
   "execution_count": null,
   "metadata": {},
   "outputs": [],
   "source": []
  }
 ],
 "metadata": {
  "kernelspec": {
   "display_name": "Python 3",
   "language": "python",
   "name": "python3"
  },
  "language_info": {
   "codemirror_mode": {
    "name": "ipython",
    "version": 3
   },
   "file_extension": ".py",
   "mimetype": "text/x-python",
   "name": "python",
   "nbconvert_exporter": "python",
   "pygments_lexer": "ipython3",
   "version": "3.12.2"
  }
 },
 "nbformat": 4,
 "nbformat_minor": 2
}
